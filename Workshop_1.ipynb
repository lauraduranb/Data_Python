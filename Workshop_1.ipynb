{
  "nbformat": 4,
  "nbformat_minor": 0,
  "metadata": {
    "colab": {
      "provenance": [],
      "include_colab_link": true
    },
    "kernelspec": {
      "name": "python3",
      "display_name": "Python 3"
    },
    "language_info": {
      "name": "python"
    }
  },
  "cells": [
    {
      "cell_type": "markdown",
      "metadata": {
        "id": "view-in-github",
        "colab_type": "text"
      },
      "source": [
        "<a href=\"https://colab.research.google.com/github/lauraduranb/Data_Python/blob/main/Workshop_1.ipynb\" target=\"_parent\"><img src=\"https://colab.research.google.com/assets/colab-badge.svg\" alt=\"Open In Colab\"/></a>"
      ]
    },
    {
      "cell_type": "markdown",
      "source": [
        "<h1 align = \"center\">\n",
        "<strong> Universidad de La Salle </strong>\n",
        "</h1>\n",
        "\n",
        "<h1 align = \"center\">\n",
        "<strong> Finance and International Commerce Program </strong>\n",
        "</h1>\n",
        "\n",
        "<h1 align = \"center\">\n",
        "<strong> Data Visualization - Workshop 1 </strong>\n",
        "</h1>\n"
      ],
      "metadata": {
        "id": "BJolccUZSw9G"
      }
    },
    {
      "cell_type": "markdown",
      "source": [
        "# **Instructions**\n",
        "\n",
        "1. Please read carefully the document. Ask all the questions you may have.\n",
        "2. Save this file in your Google Drive.\n",
        "3. DO NOT alter any cell unless it specifically ask you to do it.\n",
        "4. You will have **two hours** (until 11am) maximum to finish and deliver this workshop.\n",
        "5. You can use any help you want: your notes, your codes, internet, classmates.\n",
        "6. Nevertheless, the workshop must be presented individually.\n",
        "7. Once you have finish, save a copy in your GitHub class repository.\n",
        "8. The deliver process is as follows:\n",
        "    \n",
        "    8.1. Via email you will send the link to the GitHub location.\n",
        "    \n",
        "    8.2. In the same mail, just for safety, you will attach a copy of your `.ipynb` file.\n",
        "    \n",
        "    8.3. The email must have the subject: \"W1 DV\".   "
      ],
      "metadata": {
        "id": "pLRc5RAyWsre"
      }
    },
    {
      "cell_type": "markdown",
      "source": [
        "# **To keep in mind**\n",
        "\n",
        "* The excercises propouse are intended to **push** you a little futher in your Pyton skills.\n",
        "* This means that there are going to be exercises above the level seen in class.\n",
        "* The idea is to incentive your creative thinking and solving problem skills.\n",
        "* As always there several ways to do the excersice. But in this case, I ask you to use only the tools we learned.\n",
        "* I ask you to trust me. Give your best effort. Grades do not matter here."
      ],
      "metadata": {
        "id": "4QKdNKujZEbk"
      }
    },
    {
      "cell_type": "markdown",
      "source": [
        "# **Exercise Set**"
      ],
      "metadata": {
        "id": "2kRoSKUmaGl9"
      }
    },
    {
      "cell_type": "markdown",
      "source": [
        "## Ex 1.\n",
        "\n",
        "In the cell code below, first create a variable with your full name then write the appropiate code, using *split*, to print your full name as this:\n",
        "\n",
        "`First Name: José` &nbsp;   &nbsp;   &nbsp;   &nbsp;   &nbsp; `Middle Name: Rodrigo`\n",
        "\n",
        "`First Last  Name: Vélez` &nbsp;   &nbsp;   &nbsp;   &nbsp;   &nbsp; `Second Last Name: Molano`"
      ],
      "metadata": {
        "id": "LAdWe8iEaL7B"
      }
    },
    {
      "cell_type": "code",
      "execution_count": 9,
      "metadata": {
        "id": "rw792kISSt3n",
        "outputId": "98df4b32-8b81-4bf1-dc01-25416f7c2e40",
        "colab": {
          "base_uri": "https://localhost:8080/"
        }
      },
      "outputs": [
        {
          "output_type": "stream",
          "name": "stdout",
          "text": [
            "Laura Catalina Duran Borbon\n",
            "First Name: Laura\n",
            "Midel Name: Catalina\n",
            "First Last Name: Duran\n",
            "Second Last Name: Borbon\n"
          ]
        }
      ],
      "source": [
        "# Answ. Ex 1\n",
        "# (write your code below)\n",
        "\n",
        "a = 'Laura Catalina Duran Borbon'\n",
        "print(a)\n",
        "\n",
        "print('First Name:',a.split(' ')[0])\n",
        "print('Midel Name:',a.split(' ')[1])\n",
        "print('First Last Name:',a.split(' ')[2])\n",
        "print('Second Last Name:',a.split(' ')[3])"
      ]
    },
    {
      "cell_type": "markdown",
      "source": [
        "## Ex 2.\n",
        "\n",
        "In the cell code below, you are given two random numbers `x` and `y`.\n",
        "\n",
        "Write the appropiate code to print the result of dividing `x` by all its precedents rounded by `y` decimal positions.\n",
        "\n",
        "This is an example of the expected result for `x = 15` and `y = 2`:\n",
        "\n",
        "`15 / 1 = 15.00`\n",
        "\n",
        "`15 / 2 = 7.50`\n",
        "\n",
        "`15 / 3 = 5.00`\n",
        "\n",
        "`...`\n",
        "\n",
        "`15 / 15 = 1.00`\n",
        "\n",
        "**JUST IN CASE!** You must use the variables given to you"
      ],
      "metadata": {
        "id": "YFsGiwcNfgzP"
      }
    },
    {
      "cell_type": "code",
      "source": [
        "# Answ. Ex 2\n",
        "###################################\n",
        "#      DO NOT MODIFY THIS PART    #\n",
        "import numpy as np\n",
        "x = round(np.random.uniform(12,22))\n",
        "y = round(np.random.uniform(1,4))\n",
        "###################################\n",
        "\n",
        "# (write your code below)\n",
        "\n",
        "x = 18\n",
        "y = 4\n",
        "\n",
        "for i in range(1, 100):\n",
        "  result = x / i\n",
        "  result2 = round(result, y)\n",
        "  print(x,'/', i,'=', result2)\n"
      ],
      "metadata": {
        "id": "Dwdsh30Ti3vl",
        "outputId": "f0e930e7-d3ec-43a5-8b04-4aa516371bb9",
        "colab": {
          "base_uri": "https://localhost:8080/"
        }
      },
      "execution_count": 20,
      "outputs": [
        {
          "output_type": "stream",
          "name": "stdout",
          "text": [
            "18 / 1 = 18.0\n",
            "18 / 2 = 9.0\n",
            "18 / 3 = 6.0\n",
            "18 / 4 = 4.5\n",
            "18 / 5 = 3.6\n",
            "18 / 6 = 3.0\n",
            "18 / 7 = 2.5714\n",
            "18 / 8 = 2.25\n",
            "18 / 9 = 2.0\n",
            "18 / 10 = 1.8\n",
            "18 / 11 = 1.6364\n",
            "18 / 12 = 1.5\n",
            "18 / 13 = 1.3846\n",
            "18 / 14 = 1.2857\n",
            "18 / 15 = 1.2\n",
            "18 / 16 = 1.125\n",
            "18 / 17 = 1.0588\n",
            "18 / 18 = 1.0\n",
            "18 / 19 = 0.9474\n",
            "18 / 20 = 0.9\n",
            "18 / 21 = 0.8571\n",
            "18 / 22 = 0.8182\n",
            "18 / 23 = 0.7826\n",
            "18 / 24 = 0.75\n",
            "18 / 25 = 0.72\n",
            "18 / 26 = 0.6923\n",
            "18 / 27 = 0.6667\n",
            "18 / 28 = 0.6429\n",
            "18 / 29 = 0.6207\n",
            "18 / 30 = 0.6\n",
            "18 / 31 = 0.5806\n",
            "18 / 32 = 0.5625\n",
            "18 / 33 = 0.5455\n",
            "18 / 34 = 0.5294\n",
            "18 / 35 = 0.5143\n",
            "18 / 36 = 0.5\n",
            "18 / 37 = 0.4865\n",
            "18 / 38 = 0.4737\n",
            "18 / 39 = 0.4615\n",
            "18 / 40 = 0.45\n",
            "18 / 41 = 0.439\n",
            "18 / 42 = 0.4286\n",
            "18 / 43 = 0.4186\n",
            "18 / 44 = 0.4091\n",
            "18 / 45 = 0.4\n",
            "18 / 46 = 0.3913\n",
            "18 / 47 = 0.383\n",
            "18 / 48 = 0.375\n",
            "18 / 49 = 0.3673\n",
            "18 / 50 = 0.36\n",
            "18 / 51 = 0.3529\n",
            "18 / 52 = 0.3462\n",
            "18 / 53 = 0.3396\n",
            "18 / 54 = 0.3333\n",
            "18 / 55 = 0.3273\n",
            "18 / 56 = 0.3214\n",
            "18 / 57 = 0.3158\n",
            "18 / 58 = 0.3103\n",
            "18 / 59 = 0.3051\n",
            "18 / 60 = 0.3\n",
            "18 / 61 = 0.2951\n",
            "18 / 62 = 0.2903\n",
            "18 / 63 = 0.2857\n",
            "18 / 64 = 0.2812\n",
            "18 / 65 = 0.2769\n",
            "18 / 66 = 0.2727\n",
            "18 / 67 = 0.2687\n",
            "18 / 68 = 0.2647\n",
            "18 / 69 = 0.2609\n",
            "18 / 70 = 0.2571\n",
            "18 / 71 = 0.2535\n",
            "18 / 72 = 0.25\n",
            "18 / 73 = 0.2466\n",
            "18 / 74 = 0.2432\n",
            "18 / 75 = 0.24\n",
            "18 / 76 = 0.2368\n",
            "18 / 77 = 0.2338\n",
            "18 / 78 = 0.2308\n",
            "18 / 79 = 0.2278\n",
            "18 / 80 = 0.225\n",
            "18 / 81 = 0.2222\n",
            "18 / 82 = 0.2195\n",
            "18 / 83 = 0.2169\n",
            "18 / 84 = 0.2143\n",
            "18 / 85 = 0.2118\n",
            "18 / 86 = 0.2093\n",
            "18 / 87 = 0.2069\n",
            "18 / 88 = 0.2045\n",
            "18 / 89 = 0.2022\n",
            "18 / 90 = 0.2\n",
            "18 / 91 = 0.1978\n",
            "18 / 92 = 0.1957\n",
            "18 / 93 = 0.1935\n",
            "18 / 94 = 0.1915\n",
            "18 / 95 = 0.1895\n",
            "18 / 96 = 0.1875\n",
            "18 / 97 = 0.1856\n",
            "18 / 98 = 0.1837\n",
            "18 / 99 = 0.1818\n"
          ]
        }
      ]
    },
    {
      "cell_type": "markdown",
      "source": [
        "## Ex 3.\n",
        "\n",
        "The Fibonnaci sequence is a sequence constructed by the process:\n",
        "\n",
        "$x_{i} = x_{i-1} + x_{i-2}$\n",
        "\n",
        "where $x_{1} = x_{2} = 1$.\n",
        "\n",
        "Below you are given a random number `z`, write the appropiate code to calculate and print the `z`th position of the Fibonnaci sequence.\n",
        "\n",
        "\n"
      ],
      "metadata": {
        "id": "PYIRNu3imJ_n"
      }
    },
    {
      "cell_type": "code",
      "source": [
        "# Answ. Ex 3\n",
        "###################################\n",
        "#      DO NOT MODIFY THIS PART    #\n",
        "import numpy as np\n",
        "z = round(np.random.uniform(50,100))\n",
        "###################################\n",
        "\n",
        "# (write your code below)\n",
        "\n",
        "fibonnaci = [0, 1]\n",
        "for i in range(2,62):\n",
        "  ext_fib = fibonnaci[i-1] + fibonnaci[i-2]\n",
        "  fibonnaci.append(ext_fib)\n",
        "\n",
        "z = fibonnaci\n",
        "print(z)\n"
      ],
      "metadata": {
        "id": "wntlZUatp9uE",
        "outputId": "54a7f5ec-162c-4672-9c22-fe90cac89f0e",
        "colab": {
          "base_uri": "https://localhost:8080/"
        }
      },
      "execution_count": 14,
      "outputs": [
        {
          "output_type": "stream",
          "name": "stdout",
          "text": [
            "[0, 1, 1, 2, 3, 5, 8, 13, 21, 34, 55, 89, 144, 233, 377, 610, 987, 1597, 2584, 4181, 6765, 10946, 17711, 28657, 46368, 75025, 121393, 196418, 317811, 514229, 832040, 1346269, 2178309, 3524578, 5702887, 9227465, 14930352, 24157817, 39088169, 63245986, 102334155, 165580141, 267914296, 433494437, 701408733, 1134903170, 1836311903, 2971215073, 4807526976, 7778742049, 12586269025, 20365011074, 32951280099, 53316291173, 86267571272, 139583862445, 225851433717, 365435296162, 591286729879, 956722026041, 1548008755920, 2504730781961]\n"
          ]
        }
      ]
    },
    {
      "cell_type": "markdown",
      "source": [
        "## Ex 4.\n",
        "\n",
        "Create a string variable with the name of your favorite music artist or group.Write the appropiate code to print it in reversed order.\n",
        "\n",
        "*Example:*\n",
        "\n",
        "`w = 'Dog'`\n",
        "\n",
        "Expected result: `'goD'`.\n",
        "\n",
        "\n",
        "\n"
      ],
      "metadata": {
        "id": "2t2WnRieqLoc"
      }
    },
    {
      "cell_type": "code",
      "source": [
        "# Answ. Ex 4\n",
        "# (write your code below)\n",
        "\n",
        "favorite = 'Mon Laferte'\n",
        "print('My favorite music atist:', favorite)\n",
        "reversed = favorite[::-1]\n",
        "print('In reversed order:', reversed)\n"
      ],
      "metadata": {
        "id": "FQU_vc_5sse0",
        "outputId": "5c197612-f300-4445-f9b5-4c64fcd344cd",
        "colab": {
          "base_uri": "https://localhost:8080/"
        }
      },
      "execution_count": 50,
      "outputs": [
        {
          "output_type": "stream",
          "name": "stdout",
          "text": [
            "My favorite music atist: Mon Laferte\n",
            "In reversed order: etrefaL noM\n"
          ]
        }
      ]
    }
  ]
}