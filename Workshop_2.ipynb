{
  "nbformat": 4,
  "nbformat_minor": 0,
  "metadata": {
    "colab": {
      "provenance": [],
      "include_colab_link": true
    },
    "kernelspec": {
      "name": "python3",
      "display_name": "Python 3"
    },
    "language_info": {
      "name": "python"
    }
  },
  "cells": [
    {
      "cell_type": "markdown",
      "metadata": {
        "id": "view-in-github",
        "colab_type": "text"
      },
      "source": [
        "<a href=\"https://colab.research.google.com/github/lauraduranb/Data_Python/blob/main/Workshop_2.ipynb\" target=\"_parent\"><img src=\"https://colab.research.google.com/assets/colab-badge.svg\" alt=\"Open In Colab\"/></a>"
      ]
    },
    {
      "cell_type": "markdown",
      "source": [
        "<h1 align = \"center\">\n",
        "<strong> Universidad de La Salle </strong>\n",
        "</h1>\n",
        "\n",
        "<h1 align = \"center\">\n",
        "<strong> Finance and International Commerce Program </strong>\n",
        "</h1>\n",
        "\n",
        "<h1 align = \"center\">\n",
        "<strong> Data Visualization - Workshop 2 </strong>\n",
        "</h1>\n"
      ],
      "metadata": {
        "id": "BJolccUZSw9G"
      }
    },
    {
      "cell_type": "markdown",
      "source": [
        "# **Instructions**\n",
        "\n",
        "1. Please read carefully the document. Ask all the questions you may have.\n",
        "2. Save this file in your Google Drive.\n",
        "3. DO NOT alter any cell unless it specifically ask you to do it.\n",
        "4. You will have **two hours** (until 11am) maximum to finish and deliver this workshop.\n",
        "5. You can use any help you want: your notes, your codes, internet, classmates.\n",
        "6. Nevertheless, the workshop must be presented individually.\n",
        "7. Once you have finish, save a copy in your GitHub class repository.\n",
        "8. The deliver process is as follows:\n",
        "    \n",
        "    8.1. Via email you will send the link to the GitHub location.\n",
        "    \n",
        "    8.2. In the same mail, just for safety, you will attach a copy of your `.ipynb` file.\n",
        "    \n",
        "    8.3. The email must have the subject: \"W2 DV\".   "
      ],
      "metadata": {
        "id": "pLRc5RAyWsre"
      }
    },
    {
      "cell_type": "markdown",
      "source": [
        "# **To keep in mind**\n",
        "\n",
        "* The excercises propouse are intended to **push** you a little futher in your Pyton skills.\n",
        "* This means that there are going to be exercises above the level seen in class.\n",
        "* The idea is to incentive your creative thinking and solving problem skills.\n",
        "* As always there several ways to do the excersice. But in this case, I ask you to use only the tools we learned.\n",
        "* I ask you to trust me. Give your best effort. Grades do not matter here."
      ],
      "metadata": {
        "id": "4QKdNKujZEbk"
      }
    },
    {
      "cell_type": "markdown",
      "source": [
        "# **Exercise**\n",
        "\n",
        "**Roulette!**\n",
        "\n",
        "Let's simulate a casino game.\n",
        "Specifically, a single-zero (french) roulette.\n",
        "\n",
        "This game consists on rolling a ball over a wheel with number pockets.\n",
        "\n",
        "[Game](https://image.shutterstock.com/image-illustration/casino-roulette-wheel-chips-on-600w-1288790665.jpg)\n",
        "\n",
        "There are several ways to bet on this game, you have to code a few."
      ],
      "metadata": {
        "id": "2kRoSKUmaGl9"
      }
    },
    {
      "cell_type": "code",
      "source": [
        "import numpy as np"
      ],
      "metadata": {
        "id": "8lMuVMe0iwhw"
      },
      "execution_count": null,
      "outputs": []
    },
    {
      "cell_type": "markdown",
      "source": [
        "## Ex 1 - Number Bet\n",
        "\n",
        "You can bet on any number between 0 and 36.\n",
        "You win if the result is the number you bet on.\n",
        "In any other case, you lose.\n",
        "\n",
        "Write the appropiate the code to reflect this process.\n",
        "\n",
        "The result must show the bet made, the result obtained and if you win or lose."
      ],
      "metadata": {
        "id": "PYIRNu3imJ_n"
      }
    },
    {
      "cell_type": "code",
      "execution_count": null,
      "metadata": {
        "id": "9TaC9734lQMI",
        "colab": {
          "base_uri": "https://localhost:8080/"
        },
        "outputId": "9a18583f-8d44-4226-c952-bf2795c077c7"
      },
      "outputs": [
        {
          "output_type": "stream",
          "name": "stdout",
          "text": [
            "Put your number bet (between: 0 and 36):4\n",
            "Your number bet is: 4\n",
            "The number result is: 0\n",
            "Sorry, you lost!\n"
          ]
        }
      ],
      "source": [
        "# Answ. Ex 1\n",
        "# (write your code below)\n",
        "\n",
        "bet = int(input(\"Put your number bet (between: 0 and 36):\"))\n",
        "result = np.random.randint(0, 37)\n",
        "\n",
        "print(\"Your number bet is:\", bet)\n",
        "print(\"The number result is:\", result)\n",
        "\n",
        "if bet == result:\n",
        "     print(\"¡Congratulations, you win!\")\n",
        "else:\n",
        "     print(\"Sorry, you lost!\")"
      ]
    },
    {
      "cell_type": "markdown",
      "source": [
        "## Ex 2 - Color Bet\n",
        "\n",
        "Each color has an associated color. Zero is neutral.\n",
        "\n",
        "And the rest of the numbers vary between black and red (see the previous image).\n",
        "\n",
        "Write the appropiate code to simulate a random round of Roulette using only the color bet (black or white).\n",
        "\n",
        "The result must show the bet made, the result obtained and if you win or lose.\n",
        "\n",
        "*Tip: first define when you lose and when you win.*"
      ],
      "metadata": {
        "id": "LAdWe8iEaL7B"
      }
    },
    {
      "cell_type": "code",
      "execution_count": 25,
      "metadata": {
        "id": "rw792kISSt3n",
        "colab": {
          "base_uri": "https://localhost:8080/"
        },
        "outputId": "ed136853-e698-469a-847a-f976a2a20d34"
      },
      "outputs": [
        {
          "output_type": "stream",
          "name": "stdout",
          "text": [
            "Choose and bet whole black and white: white\n",
            "Your bet: White\n",
            "The result is: Black\n",
            "Sorry, you lost!\n"
          ]
        }
      ],
      "source": [
        "# Answ. Ex 2\n",
        "# (write your code below)\n",
        "\n",
        "numbers_red = list(range(1, 11)) + list(range(20, 29))\n",
        "numbers_black= list(range(11, 19)) + list(range(29, 37))\n",
        "\n",
        "bet_color = input(\"Choose and bet whole black and white: \").lower()\n",
        "result_color = np.random.randint(0, 37)\n",
        "\n",
        "if result_color == 0:\n",
        "  color = \"neutro\"\n",
        "elif result_color in numbers_red:\n",
        "  color = \"red\"\n",
        "else:\n",
        "  color = \"black\"\n",
        "\n",
        "print(f\"Your bet: {bet_color.capitalize()}\")\n",
        "print(f\"The result is: {color.capitalize()}\")\n",
        "\n",
        "if bet_color == color:\n",
        "    print(\"¡Congratulations, you win!\")\n",
        "else:\n",
        "    print(\"Sorry, you lost!\")"
      ]
    },
    {
      "cell_type": "markdown",
      "source": [
        "## Ex 3 - Dozens Bet\n",
        "\n",
        "Given the 3 groups:\n",
        "\n",
        "A -> numbers between 1 and 12.\n",
        "B -> numbers between 13 and 24.\n",
        "C -> numbers between 25 and 36.\n",
        "\n",
        "Write the appropiate code to print the result of betting exclusively with dozens.\n",
        "\n",
        "The result must show the bet made, the result obtained and if you win or lose.\n",
        "\n",
        "*Tip: Note that zero is not in the groups but it is a possible result.*"
      ],
      "metadata": {
        "id": "YFsGiwcNfgzP"
      }
    },
    {
      "cell_type": "code",
      "source": [
        "# Answ. Ex 3\n",
        "# (write your code below)\n",
        "\n",
        "group_a = list(range(1, 13))\n",
        "group_b = list(range(13, 25))\n",
        "group_c = list(range(25, 37))\n",
        "\n",
        "bet_dices = input(\"You bet on which group (A, B o C):\").upper()\n",
        "result_dices = np.random.randint(0, 37)\n",
        "\n",
        "if result_dices in group_a:\n",
        "    resultado_group = \"A\"\n",
        "elif result_dices in group_b:\n",
        "    resultado_group = \"B\"\n",
        "elif result_dices in group_c:\n",
        "    resultado_group = \"C\"\n",
        "else:\n",
        "    resultado_group = \"None\"\n",
        "\n",
        "print(f\"Your bet is: {bet_dices}\")\n",
        "print(f\"The result is: {resultado_group}\")\n",
        "\n",
        "\n",
        "if bet_dices == resultado_group:\n",
        "    print(\"¡Congratulations, you win!\")\n",
        "else:\n",
        "    print(\"Sorry, you lost!\")\n"
      ],
      "metadata": {
        "id": "Dwdsh30Ti3vl",
        "colab": {
          "base_uri": "https://localhost:8080/"
        },
        "outputId": "f15f66e4-98a3-498f-8a27-54aee5a550dc"
      },
      "execution_count": 26,
      "outputs": [
        {
          "output_type": "stream",
          "name": "stdout",
          "text": [
            "You bet on which group (A, B o C):a\n",
            "Your bet is: A\n",
            "The result is: A\n",
            "¡Congratulations, you win!\n"
          ]
        }
      ]
    },
    {
      "cell_type": "markdown",
      "source": [
        "## Ex 4 - Putting everything together\n",
        "\n",
        "Write the code that simulate a random game of Roulette where the person can bet on: Number, Color, Dozen or any combination she or he wants.\n",
        "\n",
        "The result must show the bet made, the result obtained and if you win or lose."
      ],
      "metadata": {
        "id": "RSyiV1UPlVcJ"
      }
    },
    {
      "cell_type": "code",
      "source": [
        "# Answ. Ex 4\n",
        "# (write your code below)\n",
        "\n",
        "bet_type = input(\"Choose your bet type (Number, Color or Dozen): \").lower()\n",
        "\n",
        "# Generate a random number on the Roulette (between 0 and 36)\n",
        "result = np.random.randint(0, 37)\n",
        "\n",
        "bet = None\n",
        "result_description = None\n",
        "\n",
        "if bet_type == \"number\":\n",
        "    bet = int(input(\"Place your bet on a number (0 to 36): \"))\n",
        "    result_description = result\n",
        "elif bet_type == \"color\":\n",
        "    colors = {0: \"green\", **{i: \"white\" for i in range(1, 11)}, **{i: \"black\" for i in range(11, 37)}}\n",
        "    bet = input(\"Place your bet on a color (white or black): \").lower()\n",
        "    result_description = colors[result]\n",
        "elif bet_type == \"dozen\":\n",
        "    dozens = {0: \"None\", **{i: \"A\" for i in range(1, 13)}, **{i: \"B\" for i in range(13, 25)}, **{i: \"C\" for i in range(25, 37)}}\n",
        "    bet = input(\"Place your bet on a dozen (A, B, or C): \").upper()\n",
        "    result_description = dozens[result]\n",
        "else:\n",
        "    colors = {0: \"None\", **{i: \"white\" for i in range(1, 11)}, **{i: \"black\" for i in range(11, 37)}}\n",
        "    dozens = {0: \"None\", **{i: \"A\" for i in range(1, 13)}, **{i: \"B\" for i in range(13, 25)}, **{i: \"C\" for i in range(25, 37)}}\n",
        "    result_description = f\"Color: {colors[result]}, Dozen: {dozens[result]}\"\n",
        "\n",
        "# Print the bet made and the result\n",
        "print(f\"You placed your bet on: {bet_type.capitalize()}\")\n",
        "print(f\"The result obtained is: {result_description}\")\n",
        "\n",
        "# Check if you won or lost\n",
        "if bet_type == result:\n",
        "    print(\"¡Congratulations, you win!\")\n",
        "else:\n",
        "    print(\"Sorry, you lost.\")\n"
      ],
      "metadata": {
        "id": "FQU_vc_5sse0",
        "colab": {
          "base_uri": "https://localhost:8080/"
        },
        "outputId": "9a7547bb-b54c-4f85-fb10-f4cc56340aca"
      },
      "execution_count": 32,
      "outputs": [
        {
          "output_type": "stream",
          "name": "stdout",
          "text": [
            "Choose your bet type (Number, Color or Dozen): dozen\n",
            "Place your bet on a dozen (A, B, or C): a\n",
            "You placed your bet on: Dozen\n",
            "The result obtained is: C\n",
            "Sorry, you lost.\n"
          ]
        }
      ]
    }
  ]
}